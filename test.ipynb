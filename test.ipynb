{
    "cells": [
        {
            "cell_type": "code",
            "execution_count": null,
            "source": [
                "import pandas\n",
                "import numpy as np\n",
                "import matplotlib.pyplot as plt\n",
                "import japanize_matplotlib\n",
                "import datetime as dt\n",
                "import base64\n",
                "import warnings\n",
                "warnings.simplefilter('ignore')"
            ],
            "outputs": [],
            "metadata": {}
        },
        {
            "cell_type": "markdown",
            "source": [
                "<h2>データの整形</h2>"
            ],
            "metadata": {}
        },
        {
            "cell_type": "code",
            "execution_count": null,
            "source": [
                "dt_now=dt.datetime.now()\n",
                "file_day=dt_now.strftime(\"%Y%m%d\")\n",
                "print(file_day)\n",
                "columns=[\"day\",\"time\",\"IP\",\"myip\",\"status\",\"status_code\",'true or flase','user_agent']\n",
                "\n",
                "'''\n",
                "#本番用df\n",
                "#df = pandas.read_csv('/input/log/log/'+str(file_day),delimiter=' ',names=columns)\n",
                "#テスト用df\n",
                "'''\n",
                "\n",
                "df = pandas.read_csv('/home/ssm-user/wowHoneypot-bunseki/input/log/log/'+str(file_day)+'.txt',delimiter=' ',names=columns)\n",
                "for i in range(len(df)):\n",
                "    df['user_agent'][i]=base64.b64decode(df['user_agent'][i].encode())\n",
                "df=df[['day','time','IP','status','status_code','user_agent']]"
            ],
            "outputs": [],
            "metadata": {}
        },
        {
            "cell_type": "markdown",
            "source": [
                "<h2>全体データ(上位5件)</h2>"
            ],
            "metadata": {}
        },
        {
            "cell_type": "code",
            "execution_count": null,
            "source": [
                "file_day=dt_now - dt.timedelta(days=1)\n",
                "file_day=file_day.strftime(\"%Y-%m-%d\")\n",
                "to_day=df[df['day']==str(file_day)]\n",
                "#%H:%M:%S+%Z\n",
                "to_day['time']=pandas.to_datetime(to_day['time'], format='%H:%M:%S%z')\n",
                "to_day=to_day.reset_index()\n",
                "to_day=to_day[['day','time','IP','status','status_code','user_agent']]"
            ],
            "outputs": [],
            "metadata": {}
        },
        {
            "cell_type": "code",
            "execution_count": null,
            "source": [
                "to_day.head()"
            ],
            "outputs": [],
            "metadata": {}
        },
        {
            "cell_type": "markdown",
            "source": [
                "<h2>当日のアクセスが多いディレクトリ</h2>"
            ],
            "metadata": {}
        },
        {
            "cell_type": "code",
            "execution_count": null,
            "source": [
                "to_day.groupby('status').count().sort_values('status_code', ascending=False)['day']"
            ],
            "outputs": [],
            "metadata": {}
        },
        {
            "cell_type": "markdown",
            "source": [
                "<h2>アクセスの多いIP</h2>"
            ],
            "metadata": {}
        },
        {
            "cell_type": "code",
            "execution_count": null,
            "source": [
                "ip=to_day.groupby('IP').count().sort_values('status_code', ascending=False)['day'][0:10]\n",
                "ip"
            ],
            "outputs": [],
            "metadata": {}
        },
        {
            "cell_type": "markdown",
            "source": [
                "<h2>ファイル全体アクセスログ可視化(5分間合計)</h2>"
            ],
            "metadata": {}
        },
        {
            "cell_type": "code",
            "execution_count": null,
            "source": [
                "to_day.groupby(pandas.Grouper(key='time', freq='05T')).count()['day'].plot(figsize=(100,4))"
            ],
            "outputs": [],
            "metadata": {}
        },
        {
            "cell_type": "markdown",
            "source": [
                "<h2>攻撃者の情報</h2>"
            ],
            "metadata": {}
        },
        {
            "cell_type": "code",
            "execution_count": null,
            "source": [
                "print(len(ip))\n",
                "for i in range(len(ip)):\n",
                "    ip_list=to_day.groupby('IP').count().sort_values('status_code', ascending=False)['day'][0:10][i]\n",
                "    print('https://www.abuseipdb.com/check/'+str(ip.index[i]))"
            ],
            "outputs": [],
            "metadata": {}
        },
        {
            "cell_type": "code",
            "execution_count": null,
            "source": [],
            "outputs": [],
            "metadata": {}
        },
        {
            "cell_type": "markdown",
            "source": [],
            "metadata": {}
        }
    ],
    "metadata": {
        "orig_nbformat": 4,
        "language_info": {
            "name": "python",
            "version": "3.8.10",
            "mimetype": "text/x-python",
            "codemirror_mode": {
                "name": "ipython",
                "version": 3
            },
            "pygments_lexer": "ipython3",
            "nbconvert_exporter": "python",
            "file_extension": ".py"
        },
        "kernelspec": {
            "name": "python3",
            "display_name": "Python 3.8.10 64-bit ('test': conda)"
        },
        "interpreter": {
            "hash": "d1cf9e1e2afc22ad60fd8cb80396d4fc2261d5e8b0e7cdb8ddfb6411c808069b"
        }
    },
    "nbformat": 4,
    "nbformat_minor": 2
}