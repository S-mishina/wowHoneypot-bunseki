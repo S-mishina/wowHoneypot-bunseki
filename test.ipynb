{
    "cells": [
        {
            "cell_type": "code",
            "execution_count": 2,
            "metadata": {},
            "outputs": [],
            "source": [
                "import pandas\n",
                "import numpy as np\n",
                "import matplotlib.pyplot as plt\n",
                "import japanize_matplotlib\n",
                "import datetime as dt\n",
                "import base64\n",
                "import warnings\n",
                "warnings.simplefilter('ignore')"
            ]
        },
        {
            "cell_type": "markdown",
            "metadata": {},
            "source": [
                "<h2>データの整形</h2>"
            ]
        },
        {
            "cell_type": "code",
            "execution_count": 30,
            "metadata": {},
            "outputs": [
                {
                    "name": "stdout",
                    "output_type": "stream",
                    "text": [
                        "2022-01-26\n"
                    ]
                }
            ],
            "source": [
                "dt_now=dt.datetime.now()\n",
                "file_day=dt_now.strftime(\"%Y-%m-%d\")\n",
                "print(file_day)\n",
                "columns=[\"day\",\"time\",\"IP\",\"myip\",\"status\",\"status_code\",'true or flase','user_agent']\n",
                "\n",
                "'''\n",
                "#本番用df\n",
                "\n",
                "#テスト用df\n",
                "'''\n",
                "# df = pandas.read_csv('2022-01-26.log',delimiter=' ' ,names=columns)\n",
                "df = pandas.read_csv('../../../../home/ubuntu/wowHoneypot-bunseki/input/log/'+str(file_day)+'.log',delimiter=' ',names=columns)\n",
                "for i in range(len(df)):\n",
                "    df['user_agent'][i]=base64.b64decode(df['user_agent'][i].encode())\n",
                "df=df[['day','time','IP','status','status_code','user_agent']]"
            ]
        },
        {
            "cell_type": "code",
            "execution_count": 31,
            "metadata": {},
            "outputs": [
                {
                    "data": {
                        "text/html": [
                            "<div>\n",
                            "<style scoped>\n",
                            "    .dataframe tbody tr th:only-of-type {\n",
                            "        vertical-align: middle;\n",
                            "    }\n",
                            "\n",
                            "    .dataframe tbody tr th {\n",
                            "        vertical-align: top;\n",
                            "    }\n",
                            "\n",
                            "    .dataframe thead th {\n",
                            "        text-align: right;\n",
                            "    }\n",
                            "</style>\n",
                            "<table border=\"1\" class=\"dataframe\">\n",
                            "  <thead>\n",
                            "    <tr style=\"text-align: right;\">\n",
                            "      <th></th>\n",
                            "      <th>day</th>\n",
                            "      <th>time</th>\n",
                            "      <th>IP</th>\n",
                            "      <th>status</th>\n",
                            "      <th>status_code</th>\n",
                            "      <th>user_agent</th>\n",
                            "    </tr>\n",
                            "  </thead>\n",
                            "  <tbody>\n",
                            "    <tr>\n",
                            "      <th>0</th>\n",
                            "      <td>2022-01-19</td>\n",
                            "      <td>20:04:33+0900</td>\n",
                            "      <td>153.134.239.179</td>\n",
                            "      <td>GET / HTTP/1.1</td>\n",
                            "      <td>200</td>\n",
                            "      <td>b'GET / HTTP/1.1\\nHost: 52.192.4.215\\nUpgrade-...</td>\n",
                            "    </tr>\n",
                            "    <tr>\n",
                            "      <th>1</th>\n",
                            "      <td>2022-01-19</td>\n",
                            "      <td>20:04:36+0900</td>\n",
                            "      <td>153.134.239.179</td>\n",
                            "      <td>GET / HTTP/1.1</td>\n",
                            "      <td>200</td>\n",
                            "      <td>b'GET / HTTP/1.1\\nHost: 52.192.4.215\\nUpgrade-...</td>\n",
                            "    </tr>\n",
                            "    <tr>\n",
                            "      <th>2</th>\n",
                            "      <td>2022-01-19</td>\n",
                            "      <td>20:04:38+0900</td>\n",
                            "      <td>153.134.239.179</td>\n",
                            "      <td>GET / HTTP/1.1</td>\n",
                            "      <td>200</td>\n",
                            "      <td>b'GET / HTTP/1.1\\nHost: 52.192.4.215\\nUpgrade-...</td>\n",
                            "    </tr>\n",
                            "    <tr>\n",
                            "      <th>3</th>\n",
                            "      <td>2022-01-19</td>\n",
                            "      <td>20:04:44+0900</td>\n",
                            "      <td>153.134.239.179</td>\n",
                            "      <td>GET / HTTP/1.1</td>\n",
                            "      <td>200</td>\n",
                            "      <td>b'GET / HTTP/1.1\\nHost: 52.192.4.215\\nUpgrade-...</td>\n",
                            "    </tr>\n",
                            "    <tr>\n",
                            "      <th>4</th>\n",
                            "      <td>2022-01-19</td>\n",
                            "      <td>21:30:06+0900</td>\n",
                            "      <td>85.108.240.214</td>\n",
                            "      <td>GET / HTTP/1.0</td>\n",
                            "      <td>200</td>\n",
                            "      <td>b'GET / HTTP/1.0\\nHost: 52.192.4.215\\nAccept: ...</td>\n",
                            "    </tr>\n",
                            "    <tr>\n",
                            "      <th>...</th>\n",
                            "      <td>...</td>\n",
                            "      <td>...</td>\n",
                            "      <td>...</td>\n",
                            "      <td>...</td>\n",
                            "      <td>...</td>\n",
                            "      <td>...</td>\n",
                            "    </tr>\n",
                            "    <tr>\n",
                            "      <th>1290</th>\n",
                            "      <td>2022-01-26</td>\n",
                            "      <td>14:56:42+0900</td>\n",
                            "      <td>95.221.182.113</td>\n",
                            "      <td>GET /api/markets HTTP/1.1</td>\n",
                            "      <td>200</td>\n",
                            "      <td>b'GET /api/markets HTTP/1.1\\nUser-Agent: curl/...</td>\n",
                            "    </tr>\n",
                            "    <tr>\n",
                            "      <th>1291</th>\n",
                            "      <td>2022-01-26</td>\n",
                            "      <td>15:06:05+0900</td>\n",
                            "      <td>135.125.246.189</td>\n",
                            "      <td>POST / HTTP/1.1</td>\n",
                            "      <td>200</td>\n",
                            "      <td>b'POST / HTTP/1.1\\nHost: 52.192.4.215\\nContent...</td>\n",
                            "    </tr>\n",
                            "    <tr>\n",
                            "      <th>1292</th>\n",
                            "      <td>2022-01-26</td>\n",
                            "      <td>15:06:06+0900</td>\n",
                            "      <td>135.125.246.189</td>\n",
                            "      <td>GET /.env HTTP/1.1</td>\n",
                            "      <td>200</td>\n",
                            "      <td>b'GET /.env HTTP/1.1\\nHost: 52.192.4.215\\nConn...</td>\n",
                            "    </tr>\n",
                            "    <tr>\n",
                            "      <th>1293</th>\n",
                            "      <td>2022-01-26</td>\n",
                            "      <td>15:21:06+0900</td>\n",
                            "      <td>174.138.40.190</td>\n",
                            "      <td>GET /.env HTTP/1.1</td>\n",
                            "      <td>200</td>\n",
                            "      <td>b'GET /.env HTTP/1.1\\nHost: 52.192.4.215\\nConn...</td>\n",
                            "    </tr>\n",
                            "    <tr>\n",
                            "      <th>1294</th>\n",
                            "      <td>2022-01-26</td>\n",
                            "      <td>15:21:06+0900</td>\n",
                            "      <td>174.138.40.190</td>\n",
                            "      <td>POST / HTTP/1.1</td>\n",
                            "      <td>200</td>\n",
                            "      <td>b'POST / HTTP/1.1\\nHost: 52.192.4.215\\nConnect...</td>\n",
                            "    </tr>\n",
                            "  </tbody>\n",
                            "</table>\n",
                            "<p>1295 rows × 6 columns</p>\n",
                            "</div>"
                        ],
                        "text/plain": [
                            "             day           time               IP                     status  \\\n",
                            "0     2022-01-19  20:04:33+0900  153.134.239.179             GET / HTTP/1.1   \n",
                            "1     2022-01-19  20:04:36+0900  153.134.239.179             GET / HTTP/1.1   \n",
                            "2     2022-01-19  20:04:38+0900  153.134.239.179             GET / HTTP/1.1   \n",
                            "3     2022-01-19  20:04:44+0900  153.134.239.179             GET / HTTP/1.1   \n",
                            "4     2022-01-19  21:30:06+0900   85.108.240.214             GET / HTTP/1.0   \n",
                            "...          ...            ...              ...                        ...   \n",
                            "1290  2022-01-26  14:56:42+0900   95.221.182.113  GET /api/markets HTTP/1.1   \n",
                            "1291  2022-01-26  15:06:05+0900  135.125.246.189            POST / HTTP/1.1   \n",
                            "1292  2022-01-26  15:06:06+0900  135.125.246.189         GET /.env HTTP/1.1   \n",
                            "1293  2022-01-26  15:21:06+0900   174.138.40.190         GET /.env HTTP/1.1   \n",
                            "1294  2022-01-26  15:21:06+0900   174.138.40.190            POST / HTTP/1.1   \n",
                            "\n",
                            "      status_code                                         user_agent  \n",
                            "0             200  b'GET / HTTP/1.1\\nHost: 52.192.4.215\\nUpgrade-...  \n",
                            "1             200  b'GET / HTTP/1.1\\nHost: 52.192.4.215\\nUpgrade-...  \n",
                            "2             200  b'GET / HTTP/1.1\\nHost: 52.192.4.215\\nUpgrade-...  \n",
                            "3             200  b'GET / HTTP/1.1\\nHost: 52.192.4.215\\nUpgrade-...  \n",
                            "4             200  b'GET / HTTP/1.0\\nHost: 52.192.4.215\\nAccept: ...  \n",
                            "...           ...                                                ...  \n",
                            "1290          200  b'GET /api/markets HTTP/1.1\\nUser-Agent: curl/...  \n",
                            "1291          200  b'POST / HTTP/1.1\\nHost: 52.192.4.215\\nContent...  \n",
                            "1292          200  b'GET /.env HTTP/1.1\\nHost: 52.192.4.215\\nConn...  \n",
                            "1293          200  b'GET /.env HTTP/1.1\\nHost: 52.192.4.215\\nConn...  \n",
                            "1294          200  b'POST / HTTP/1.1\\nHost: 52.192.4.215\\nConnect...  \n",
                            "\n",
                            "[1295 rows x 6 columns]"
                        ]
                    },
                    "execution_count": 31,
                    "metadata": {},
                    "output_type": "execute_result"
                }
            ],
            "source": [
                "for i in range(len(df)):\n",
                "    df['day'][i]=str(df['day'][i]).replace('[2', '2')\n",
                "    df['time'][i]=str(df['time'][i]).replace('0900]', '0900')\n",
                "df"
            ]
        },
        {
            "cell_type": "markdown",
            "metadata": {},
            "source": [
                "<h2>全体データ(上位5件)</h2>"
            ]
        },
        {
            "cell_type": "code",
            "execution_count": 32,
            "metadata": {},
            "outputs": [],
            "source": [
                "file_day=dt_now - dt.timedelta(days=1)\n",
                "file_day=file_day.strftime(\"%Y-%m-%d\")\n",
                "to_day=df[df['day']==str(file_day)]\n",
                "#%H:%M:%S+%Z\n",
                "to_day['time']=pandas.to_datetime(to_day['time'], format='%H:%M:%S%z')\n",
                "to_day=to_day.reset_index()\n",
                "to_day=to_day[['day','time','IP','status','status_code','user_agent']]"
            ]
        },
        {
            "cell_type": "code",
            "execution_count": 33,
            "metadata": {},
            "outputs": [
                {
                    "data": {
                        "text/html": [
                            "<div>\n",
                            "<style scoped>\n",
                            "    .dataframe tbody tr th:only-of-type {\n",
                            "        vertical-align: middle;\n",
                            "    }\n",
                            "\n",
                            "    .dataframe tbody tr th {\n",
                            "        vertical-align: top;\n",
                            "    }\n",
                            "\n",
                            "    .dataframe thead th {\n",
                            "        text-align: right;\n",
                            "    }\n",
                            "</style>\n",
                            "<table border=\"1\" class=\"dataframe\">\n",
                            "  <thead>\n",
                            "    <tr style=\"text-align: right;\">\n",
                            "      <th></th>\n",
                            "      <th>day</th>\n",
                            "      <th>time</th>\n",
                            "      <th>IP</th>\n",
                            "      <th>status</th>\n",
                            "      <th>status_code</th>\n",
                            "      <th>user_agent</th>\n",
                            "    </tr>\n",
                            "  </thead>\n",
                            "  <tbody>\n",
                            "    <tr>\n",
                            "      <th>0</th>\n",
                            "      <td>2022-01-25</td>\n",
                            "      <td>1900-01-01 00:10:33+09:00</td>\n",
                            "      <td>178.32.197.87</td>\n",
                            "      <td>GET / HTTP/1.1</td>\n",
                            "      <td>200</td>\n",
                            "      <td>b'GET / HTTP/1.1\\nHost: 52.192.4.215\\nConnecti...</td>\n",
                            "    </tr>\n",
                            "    <tr>\n",
                            "      <th>1</th>\n",
                            "      <td>2022-01-25</td>\n",
                            "      <td>1900-01-01 01:16:21+09:00</td>\n",
                            "      <td>206.189.226.29</td>\n",
                            "      <td>GET /.env HTTP/1.1</td>\n",
                            "      <td>200</td>\n",
                            "      <td>b'GET /.env HTTP/1.1\\nHost: 52.192.4.215\\nConn...</td>\n",
                            "    </tr>\n",
                            "    <tr>\n",
                            "      <th>2</th>\n",
                            "      <td>2022-01-25</td>\n",
                            "      <td>1900-01-01 01:16:21+09:00</td>\n",
                            "      <td>206.189.226.29</td>\n",
                            "      <td>POST / HTTP/1.1</td>\n",
                            "      <td>200</td>\n",
                            "      <td>b'POST / HTTP/1.1\\nHost: 52.192.4.215\\nConnect...</td>\n",
                            "    </tr>\n",
                            "    <tr>\n",
                            "      <th>3</th>\n",
                            "      <td>2022-01-25</td>\n",
                            "      <td>1900-01-01 01:26:24+09:00</td>\n",
                            "      <td>195.154.63.222</td>\n",
                            "      <td>GET /favicon.ico HTTP/1.1</td>\n",
                            "      <td>200</td>\n",
                            "      <td>b'GET /favicon.ico HTTP/1.1\\nHost: 52.192.4.21...</td>\n",
                            "    </tr>\n",
                            "    <tr>\n",
                            "      <th>4</th>\n",
                            "      <td>2022-01-25</td>\n",
                            "      <td>1900-01-01 01:48:33+09:00</td>\n",
                            "      <td>135.125.246.110</td>\n",
                            "      <td>POST / HTTP/1.1</td>\n",
                            "      <td>200</td>\n",
                            "      <td>b'POST / HTTP/1.1\\nHost: 52.192.4.215\\nContent...</td>\n",
                            "    </tr>\n",
                            "  </tbody>\n",
                            "</table>\n",
                            "</div>"
                        ],
                        "text/plain": [
                            "          day                      time               IP  \\\n",
                            "0  2022-01-25 1900-01-01 00:10:33+09:00    178.32.197.87   \n",
                            "1  2022-01-25 1900-01-01 01:16:21+09:00   206.189.226.29   \n",
                            "2  2022-01-25 1900-01-01 01:16:21+09:00   206.189.226.29   \n",
                            "3  2022-01-25 1900-01-01 01:26:24+09:00   195.154.63.222   \n",
                            "4  2022-01-25 1900-01-01 01:48:33+09:00  135.125.246.110   \n",
                            "\n",
                            "                      status  status_code  \\\n",
                            "0             GET / HTTP/1.1          200   \n",
                            "1         GET /.env HTTP/1.1          200   \n",
                            "2            POST / HTTP/1.1          200   \n",
                            "3  GET /favicon.ico HTTP/1.1          200   \n",
                            "4            POST / HTTP/1.1          200   \n",
                            "\n",
                            "                                          user_agent  \n",
                            "0  b'GET / HTTP/1.1\\nHost: 52.192.4.215\\nConnecti...  \n",
                            "1  b'GET /.env HTTP/1.1\\nHost: 52.192.4.215\\nConn...  \n",
                            "2  b'POST / HTTP/1.1\\nHost: 52.192.4.215\\nConnect...  \n",
                            "3  b'GET /favicon.ico HTTP/1.1\\nHost: 52.192.4.21...  \n",
                            "4  b'POST / HTTP/1.1\\nHost: 52.192.4.215\\nContent...  "
                        ]
                    },
                    "execution_count": 33,
                    "metadata": {},
                    "output_type": "execute_result"
                }
            ],
            "source": [
                "to_day.head()"
            ]
        },
        {
            "cell_type": "markdown",
            "metadata": {},
            "source": [
                "<h3>ステータスコード</h3>"
            ]
        },
        {
            "cell_type": "code",
            "execution_count": 38,
            "metadata": {},
            "outputs": [
                {
                    "data": {
                        "text/plain": [
                            "status_code\n",
                            "200    114\n",
                            "Name: day, dtype: int64"
                        ]
                    },
                    "execution_count": 38,
                    "metadata": {},
                    "output_type": "execute_result"
                }
            ],
            "source": [
                "to_day.groupby('status_code').count().sort_values('IP', ascending=False)['day']"
            ]
        },
        {
            "cell_type": "markdown",
            "metadata": {},
            "source": [
                "<h2>当日のアクセスが多いディレクトリ</h2>"
            ]
        },
        {
            "cell_type": "code",
            "execution_count": 37,
            "metadata": {},
            "outputs": [
                {
                    "data": {
                        "text/plain": [
                            "status\n",
                            "GET /.env HTTP/1.1                                                    32\n",
                            "POST / HTTP/1.1                                                       30\n",
                            "GET / HTTP/1.1                                                        20\n",
                            "GET / HTTP/1.0                                                         7\n",
                            "GET /favicon.ico HTTP/1.1                                              2\n",
                            "POST /autodiscover HTTP/1.1                                            2\n",
                            "POST /.env HTTP/1.1                                                    2\n",
                            "GET /_ignition/execute-solution HTTP/1.1                               2\n",
                            "POST /sdk HTTP/1.1                                                     1\n",
                            "POST /images.php HTTP/1.1                                              1\n",
                            "POST /cgi-bin/.%2e/.%2e/.%2e/.%2e/bin/sh HTTP/1.1                      1\n",
                            "POST /Autodiscover/Autodiscover.xml HTTP/1.1                           1\n",
                            "GET /vendor/phpunit/phpunit/src/Util/PHP/eval-stdin.php HTTP/1.1       1\n",
                            "GET /nmaplowercheck1643053826 HTTP/1.1                                 1\n",
                            "GET /console/ HTTP/1.1                                                 1\n",
                            "GET /evox/about HTTP/1.1                                               1\n",
                            "GET /config/getuser?index=0 HTTP/1.1                                   1\n",
                            "GET /NmapUpperCheck1643053826 HTTP/1.1                                 1\n",
                            "GET /Nmap/folder/check1643053826 HTTP/1.1                              1\n",
                            "GET /HNAP1 HTTP/1.1                                                    1\n",
                            "GET /?a=fetch&content=<php>die(@md5(HelloThinkCMF))</php> HTTP/1.1     1\n",
                            "GET /?XDEBUG_SESSION_START=phpstorm HTTP/1.1                           1\n",
                            "GET /.git/config HTTP/1.1                                              1\n",
                            "GET /.aws/credentials HTTP/1.1                                         1\n",
                            "POST /vendor/phpunit/phpunit/src/Util/PHP/eval-stdin.php HTTP/1.1      1\n",
                            "Name: day, dtype: int64"
                        ]
                    },
                    "execution_count": 37,
                    "metadata": {},
                    "output_type": "execute_result"
                }
            ],
            "source": [
                "to_day.groupby('status').count().sort_values('status_code', ascending=False)['day']"
            ]
        },
        {
            "cell_type": "markdown",
            "metadata": {},
            "source": [
                "<h2>アクセスの多いIP</h2>"
            ]
        },
        {
            "cell_type": "code",
            "execution_count": 34,
            "metadata": {},
            "outputs": [
                {
                    "data": {
                        "text/plain": [
                            "IP\n",
                            "135.125.246.189    26\n",
                            "103.230.15.57      10\n",
                            "45.146.165.37       8\n",
                            "135.125.246.110     6\n",
                            "44.234.51.40        4\n",
                            "44.202.23.255       4\n",
                            "13.68.241.141       3\n",
                            "3.133.12.155        2\n",
                            "206.189.226.29      2\n",
                            "206.189.226.63      2\n",
                            "Name: day, dtype: int64"
                        ]
                    },
                    "execution_count": 34,
                    "metadata": {},
                    "output_type": "execute_result"
                }
            ],
            "source": [
                "ip=to_day.groupby('IP').count().sort_values('status_code', ascending=False)['day'][0:10]\n",
                "ip"
            ]
        },
        {
            "cell_type": "markdown",
            "metadata": {},
            "source": [
                "<h2>ファイル全体アクセスログ可視化(5分間合計)</h2>"
            ]
        },
        {
            "cell_type": "code",
            "execution_count": 36,
            "metadata": {},
            "outputs": [
                {
                    "data": {
                        "text/plain": [
                            "<AxesSubplot:xlabel='time'>"
                        ]
                    },
                    "execution_count": 36,
                    "metadata": {},
                    "output_type": "execute_result"
                },
                {
                    "data": {
                        "image/png": "[encoded data removed]",
                        "text/plain": [
                            "<Figure size 7200x288 with 1 Axes>"
                        ]
                    },
                    "metadata": {
                        "needs_background": "light"
                    },
                    "output_type": "display_data"
                }
            ],
            "source": [
                "to_day.groupby(pandas.Grouper(key='time', freq='05T')).count()['day'].plot(figsize=(100,4))"
            ]
        },
        {
            "cell_type": "markdown",
            "metadata": {},
            "source": [
                "<h2>攻撃者の情報</h2>"
            ]
        },
        {
            "cell_type": "code",
            "execution_count": 35,
            "metadata": {},
            "outputs": [
                {
                    "name": "stdout",
                    "output_type": "stream",
                    "text": [
                        "10\n",
                        "https://www.abuseipdb.com/check/135.125.246.189\n",
                        "https://www.abuseipdb.com/check/103.230.15.57\n",
                        "https://www.abuseipdb.com/check/45.146.165.37\n",
                        "https://www.abuseipdb.com/check/135.125.246.110\n",
                        "https://www.abuseipdb.com/check/44.234.51.40\n",
                        "https://www.abuseipdb.com/check/44.202.23.255\n",
                        "https://www.abuseipdb.com/check/13.68.241.141\n",
                        "https://www.abuseipdb.com/check/3.133.12.155\n",
                        "https://www.abuseipdb.com/check/206.189.226.29\n",
                        "https://www.abuseipdb.com/check/206.189.226.63\n"
                    ]
                }
            ],
            "source": [
                "print(len(ip))\n",
                "for i in range(len(ip)):\n",
                "    ip_list=to_day.groupby('IP').count().sort_values('status_code', ascending=False)['day'][0:10][i]\n",
                "    print('https://www.abuseipdb.com/check/'+str(ip.index[i]))"
            ]
        },
        {
            "cell_type": "code",
            "execution_count": null,
            "metadata": {},
            "outputs": [],
            "source": []
        },
        {
            "cell_type": "markdown",
            "metadata": {},
            "source": []
        }
    ],
    "metadata": {
        "interpreter": {
            "hash": "d1cf9e1e2afc22ad60fd8cb80396d4fc2261d5e8b0e7cdb8ddfb6411c808069b"
        },
        "kernelspec": {
            "display_name": "Python 3.8.10 64-bit ('test': conda)",
            "name": "python3"
        },
        "language_info": {
            "codemirror_mode": {
                "name": "ipython",
                "version": 3
            },
            "file_extension": ".py",
            "mimetype": "text/x-python",
            "name": "python",
            "nbconvert_exporter": "python",
            "pygments_lexer": "ipython3",
            "version": "3.8.10"
        },
        "orig_nbformat": 4
    },
    "nbformat": 4,
    "nbformat_minor": 2
}
